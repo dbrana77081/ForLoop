{
  "nbformat": 4,
  "nbformat_minor": 0,
  "metadata": {
    "colab": {
      "provenance": []
    },
    "kernelspec": {
      "name": "python3",
      "display_name": "Python 3"
    },
    "language_info": {
      "name": "python"
    }
  },
  "cells": [
    {
      "cell_type": "markdown",
      "source": [
        "The aim of this post is to demonstrate the difference of coding in differnt computer programming languages.\n",
        "There are different computer programming language. Some are static and others are dynamic. Each programming languages have theie own pros and cons. In this post, I am trying to depict a for loop in C, C++, Matlab, and Python. Since, each programing language needs different architechture to run and compile the code, I will only run for loop code for Python. However, I will provide codes of other programming languages."
      ],
      "metadata": {
        "id": "HeoCtBlbiZeg"
      }
    },
    {
      "cell_type": "markdown",
      "source": [
        "For Loop in C:-\n",
        "The syntax is,\n",
        "for (initial; condition; increment)\n",
        "  statement;\n",
        "\n",
        "  Here, initial, condition, and increment are all C expressions while statement involves the single or compound C statement. The program execution occurs as,\n",
        "  1. The initial expression (setting a variable to a particular value) is evaluated.\n",
        "  2. The condition expression (generally a relational expression) is evaluated.\n",
        "  3. If condition is evaluated as false, then, for statement will terminate. Only first statement will be passed to execute.\n",
        "  4. If the condition is evaluated as true, then, first for statement will execute and pass to other statements.\n",
        "  5.The increment expression is evaluated, and repeat step 2.\n",
        "\n",
        "  /*Example of for loop in C*/\n",
        "\n",
        "  #include <stdio.h>\n",
        "  int counter;\n",
        "  int main(void)\n",
        "  {\n",
        "    for (counter = 1; counter<=10; counter++)\n",
        "        printf(\"%d\\n\", counter);\n",
        "    return 0;\n",
        "  }\n",
        "\n",
        "\n"
      ],
      "metadata": {
        "id": "RZl5EAh-jmpa"
      }
    },
    {
      "cell_type": "markdown",
      "source": [
        "For loop in C++\n",
        "\n",
        "The syntax is same as C,\n",
        "for (initial; condition; increment)\n",
        "  statement;\n",
        "\n",
        "// Example of for loop in C++\n",
        "\n",
        "#include <iostream.h>\n",
        "void main (void)\n",
        "{\n",
        "  for (int i = 0; i<=10; ++i) {\n",
        "    cout << i;\n",
        "  }\n",
        "}\n"
      ],
      "metadata": {
        "id": "nrJ5AmQYqV-b"
      }
    },
    {
      "cell_type": "markdown",
      "source": [
        "For loop in Matlab\n",
        "\n",
        "% Example of for loop\n",
        "for n = 1:10\n",
        "    x(n) = n;\n",
        "    end\n",
        "The value of vector x will be displayed after typing x on the command prompt. In each cycles of the for loop, the value of vector x is calculated by employing the condition x(n) = n, and executes for 10 cycles."
      ],
      "metadata": {
        "id": "hw-VYc9vsbvC"
      }
    },
    {
      "cell_type": "markdown",
      "source": [
        "For loop in Java\n",
        "\n",
        "The syntax of for loop in Java is,\n",
        "\n",
        "for (variable = initial value; expression1;expression2)\n",
        "{\n",
        "  statement/s\n",
        "}\n",
        "\n",
        "//Example of for loop using Java\n",
        "\n",
        "for (i= 0;i<=10; i++)\n",
        "{\n",
        "  system.out.println(i);\n",
        "}"
      ],
      "metadata": {
        "id": "RQVn5_OZuy40"
      }
    },
    {
      "cell_type": "markdown",
      "source": [
        "For loop in Python\n",
        "\n",
        "The syntax of for loop in Python is,\n",
        "\n",
        "for x in range():\n",
        "print(x)\n",
        "\n",
        "or\n",
        "for i in L:\n",
        " #do something\n",
        " In this case, i is the first element in the list L. In Python, for loop can be used for iteration and generation."
      ],
      "metadata": {
        "id": "lG5AZm8QxJav"
      }
    },
    {
      "cell_type": "code",
      "source": [
        "# Print 1-10 using for loop in Python\n",
        "\n",
        "for i in range(11):\n",
        "  print(i)"
      ],
      "metadata": {
        "colab": {
          "base_uri": "https://localhost:8080/",
          "height": 0
        },
        "id": "cX5oByjb1VJq",
        "outputId": "5c7dcbcc-bd4d-441e-c8ca-427ca90bee0c"
      },
      "execution_count": 1,
      "outputs": [
        {
          "output_type": "stream",
          "name": "stdout",
          "text": [
            "0\n",
            "1\n",
            "2\n",
            "3\n",
            "4\n",
            "5\n",
            "6\n",
            "7\n",
            "8\n",
            "9\n",
            "10\n"
          ]
        }
      ]
    },
    {
      "cell_type": "markdown",
      "source": [
        "References:\n",
        "1. Python Basics by H. Bhasin\n",
        "2. SAMS Teach Yourself C in 21 Days by Bradely L. Jones and Peter Aitken\n",
        "3.Matlab for Biginners by Peter I. Kattan"
      ],
      "metadata": {
        "id": "WFWbUA8917E_"
      }
    }
  ]
}